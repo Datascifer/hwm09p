{
 "cells": [
  {
   "cell_type": "markdown",
   "id": "bbea800c-241d-42b4-a744-ecaffe13959e",
   "metadata": {},
   "source": [
    "# Metadata\n",
    "\n",
    "```yaml\n",
    "Course:  DS 5100\n",
    "Module:  09 Python Packages\n",
    "Topic:   HW Package Booklover\n",
    "Author:  R.C. Alvarado (adapted)\n",
    "Date:    7 July 2023 (revised)\n",
    "```"
   ]
  },
  {
   "cell_type": "markdown",
   "id": "36f46fdd-2405-4dc8-9ea1-33f395e56cc0",
   "metadata": {},
   "source": [
    "# Student Info\n",
    "\n",
    "* Name: Michael Amadi\n",
    "* Net UD: mxg9xv\n",
    "* URL of this file in GitHub: https://github.com/Datascifer/hwm09p/blob/main/M09-HW.ipynb"
   ]
  },
  {
   "cell_type": "markdown",
   "id": "375875a8-1503-46eb-8ea1-7e5bf39b5c41",
   "metadata": {},
   "source": [
    "# Instructions\n",
    "\n",
    "In your **private course repo on Rivanna**, use this Jupyter notebook and the data file described to write code that performs the tasks below. \n",
    "\n",
    "Save your notebook in the `M09` directory.\n",
    "\n",
    "Remember to add and commit these files to your repo. \n",
    "\n",
    "Then push your commits to your repo on GitHib.\n",
    "\n",
    "Be sure to fill out the **Student Info** block above.\n",
    "\n",
    "To submit your homework, save your results as a PDF and upload it to GradeScope. More information about how to create the PDF for this assignment are included at the end of this document.\n",
    "\n",
    "**TOTAL POINTS: 8**"
   ]
  },
  {
   "cell_type": "markdown",
   "id": "1baf08dc-35fe-44f1-bc26-7e1130ee993e",
   "metadata": {},
   "source": [
    "# Overview\n",
    "\n",
    "Follow the following recipe we used in class to package the code you wrote for `HW08` -- `booklover.py` and `booklover_test.py`.\n",
    "\n",
    "* Create a new git repo for your package.\n",
    "* Create and edit the required files and directories for your package and move the booklover modules there.\n",
    "* Stage, commit, and push all the files you've created.\n",
    "* Install your package with pip.\n",
    "* Outside of your package dir, write a script to test your method.\n",
    "\n",
    "Put this notebook in your repo. This will allow you to execute bash commands and capture the outpunt directly in the notebook.\n",
    "\n",
    "**TOTAL: 8 POINTS**"
   ]
  },
  {
   "cell_type": "markdown",
   "id": "6e39ba79-49ee-41e8-9e49-23d9d6bac2e0",
   "metadata": {
    "tags": []
   },
   "source": [
    "# Tasks"
   ]
  },
  {
   "cell_type": "markdown",
   "id": "fb11de14",
   "metadata": {},
   "source": [
    "## Task 1\n",
    "\n",
    "(5 points)\n",
    "\n",
    "Show the directory structure of your repo by running this command from the root of your repo:"
   ]
  },
  {
   "cell_type": "code",
   "execution_count": 1,
   "id": "7e6c6607",
   "metadata": {},
   "outputs": [
    {
     "name": "stdout",
     "output_type": "stream",
     "text": [
      ".:\n",
      "total 36\n",
      "drwx--S--- 4 mxg9xv users 1024 Apr  1 05:32 build\n",
      "drwx--S--- 3 mxg9xv users 2560 Apr  1 06:13 demo\n",
      "drwx--S--- 2 mxg9xv users 2048 Apr  1 05:32 demo.egg-info\n",
      "-rw------- 1 mxg9xv users 1067 Apr  1 04:41 LICENSE\n",
      "-rw------- 1 mxg9xv users 7073 Apr  1 06:14 M09-HW.ipynb\n",
      "-rw------- 1 mxg9xv users    8 Apr  1 04:41 README.md\n",
      "-rw------- 1 mxg9xv users  337 Apr  1 04:50 setup.py\n",
      "\n",
      "./build:\n",
      "total 8\n",
      "drwx--S--- 2 mxg9xv users   0 Apr  1 05:32 bdist.linux-x86_64\n",
      "drwx--S--- 3 mxg9xv users 512 Apr  1 05:32 lib\n",
      "\n",
      "./build/bdist.linux-x86_64:\n",
      "total 0\n",
      "\n",
      "./build/lib:\n",
      "total 4\n",
      "drwx--S--- 2 mxg9xv users 1536 Apr  1 05:32 demo\n",
      "\n",
      "./build/lib/demo:\n",
      "total 16\n",
      "-rw------- 1 mxg9xv users 1198 Apr  1 04:47 booklover.py\n",
      "-rw------- 1 mxg9xv users 1782 Apr  1 04:47 booklover_test.py\n",
      "-rw------- 1 mxg9xv users    0 Apr  1 04:44 __init__.py\n",
      "\n",
      "./demo:\n",
      "total 24\n",
      "-rw------- 1 mxg9xv users 1416 Apr  1 06:13 booklover.py\n",
      "-rw------- 1 mxg9xv users    0 Apr  1 04:44 booklover_results.txt\n",
      "-rw------- 1 mxg9xv users 1782 Apr  1 04:47 booklover_test.py\n",
      "-rw------- 1 mxg9xv users    0 Apr  1 04:44 __init__.py\n",
      "\n",
      "./demo.egg-info:\n",
      "total 16\n",
      "-rw------- 1 mxg9xv users   1 Apr  1 05:32 dependency_links.txt\n",
      "-rw------- 1 mxg9xv users 203 Apr  1 05:32 PKG-INFO\n",
      "-rw------- 1 mxg9xv users 196 Apr  1 05:32 SOURCES.txt\n",
      "-rw------- 1 mxg9xv users   5 Apr  1 05:32 top_level.txt\n"
     ]
    }
   ],
   "source": [
    "!ls -lR"
   ]
  },
  {
   "cell_type": "markdown",
   "id": "2ffaa20c-4305-4313-8f11-de447086f608",
   "metadata": {},
   "source": [
    " ls -l -lR\n",
    ".:\n",
    "total 20\n",
    "-rw------- 1 mxg9xv users 1198 Apr  1 04:47 booklover.py\n",
    "-rw------- 1 mxg9xv users    0 Apr  1 04:44 booklover_results.txt\n",
    "-rw------- 1 mxg9xv users 1782 Apr  1 04:47 booklover_test.py\n",
    "-rw------- 1 mxg9xv users    0 Apr  1 04:44 __init__.py"
   ]
  },
  {
   "cell_type": "markdown",
   "id": "6b6f288b-05aa-441b-8c73-84b50b3b6844",
   "metadata": {},
   "source": [
    "## Task 2\n",
    "\n",
    "(1 point)\n",
    "\n",
    "Put the URL of your GitHub repo here. Just paste it into a Markdown cell."
   ]
  },
  {
   "cell_type": "markdown",
   "id": "4d09d889-6104-4f20-b31c-2d8a72b17693",
   "metadata": {},
   "source": [
    "URL: https://github.com/Datascifer/hwm09p"
   ]
  },
  {
   "cell_type": "markdown",
   "id": "f989dcd1-b1d2-4eb9-8ef6-8ca2d8495260",
   "metadata": {
    "lines_to_next_cell": 0
   },
   "source": [
    "## Task 3\n",
    "\n",
    "(1 point)\n",
    "\n",
    "Show the results of installing your package.\n",
    "\n",
    "```bash\n",
    "!pip install -e .\n",
    "```"
   ]
  },
  {
   "cell_type": "markdown",
   "id": "d1039e04-68f9-46e3-81e1-c28b2614b771",
   "metadata": {
    "lines_to_next_cell": 0
   },
   "source": [
    "Defaulting to user installation because normal site-packages is not writeable\n",
    "Processing /sfs/qumulo/qhome/mxg9xv/hwm09p\n",
    "  Preparing metadata (setup.py) ... done\n",
    "Building wheels for collected packages: demo\n",
    "  Building wheel for demo (setup.py) ... done\n",
    "  Created wheel for demo: filename=demo-0.1-py3-none-any.whl size=3338 sha256=bd9fb39c32426f47d40d07374ceda70df6d67639f8237680b5a4e834755d2790\n",
    "  Stored in directory: /tmp/pip-ephem-wheel-cache-v30mahjd/wheels/14/fa/dd/2f71f63ad5c4e0c191dd195959a2c4d14a533ae8e532f1e5fa\n",
    "Successfully built demo\n",
    "Installing collected packages: demo\n",
    "Successfully installed demo-0.1"
   ]
  },
  {
   "cell_type": "markdown",
   "id": "5b1a642e-74f0-43ff-97a3-9ddc7553978e",
   "metadata": {},
   "source": [
    "## Task 4\n",
    "\n",
    "(1 point)\n",
    "\n",
    "Create a file outside your repo to test your package by running it.\n",
    "\n",
    "To do this, import the package into your file and create a BookLover object.\n",
    "\n",
    "Then add a book and then print number books read.\n",
    "\n",
    "Then run the file. \n",
    "\n",
    "Show the output of running the file below, using a command like the following:\n",
    "\n",
    "```bash\n",
    "!python ../book_lover_demo.py\n",
    "```"
   ]
  },
  {
   "cell_type": "code",
   "execution_count": 2,
   "id": "5924fca8-6483-4f2b-a33f-6550d1726d6e",
   "metadata": {},
   "outputs": [
    {
     "ename": "IndentationError",
     "evalue": "unexpected indent (2189409522.py, line 3)",
     "output_type": "error",
     "traceback": [
      "\u001b[0;36m  Cell \u001b[0;32mIn[2], line 3\u001b[0;36m\u001b[0m\n\u001b[0;31m    python test_package.py test_package.py test_package.py\u001b[0m\n\u001b[0m    ^\u001b[0m\n\u001b[0;31mIndentationError\u001b[0m\u001b[0;31m:\u001b[0m unexpected indent\n"
     ]
    }
   ],
   "source": [
    "# Python \n",
    "\n",
    " python test_package.py test_package.py test_package.py\n",
    "/home/mxg9xv/.local/lib/python3.11/site-packages/demo/booklover.py:12: FutureWarning: elementwise comparison failed; returning scalar instead, but in the future will perform elementwise comparison\n",
    "  if book_name in self.book_list['book_name'].values:\n",
    "Book 'The Great Gatsby' added successfully.\n",
    "Book '1984' added successfully.\n",
    "Number of books read by Steven Segal: 0"
   ]
  }
 ],
 "metadata": {
  "jupytext": {
   "cell_metadata_filter": "-all",
   "main_language": "bash",
   "notebook_metadata_filter": "-all"
  },
  "kernelspec": {
   "display_name": "Python 3 (ipykernel)",
   "language": "python",
   "name": "python3"
  },
  "language_info": {
   "codemirror_mode": {
    "name": "ipython",
    "version": 3
   },
   "file_extension": ".py",
   "mimetype": "text/x-python",
   "name": "python",
   "nbconvert_exporter": "python",
   "pygments_lexer": "ipython3",
   "version": "3.11.4"
  },
  "vscode": {
   "interpreter": {
    "hash": "c3b963de08c47c3b6758389c5e0978ad73698a111eb508d4e16b558edb8f4cbf"
   }
  },
  "widgets": {
   "application/vnd.jupyter.widget-state+json": {
    "state": {},
    "version_major": 2,
    "version_minor": 0
   }
  }
 },
 "nbformat": 4,
 "nbformat_minor": 5
}
